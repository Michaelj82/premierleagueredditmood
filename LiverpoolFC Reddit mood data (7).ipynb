{
 "cells": [
  {
   "cell_type": "code",
   "execution_count": 1,
   "id": "1b4ff964",
   "metadata": {},
   "outputs": [],
   "source": [
    "import praw"
   ]
  },
  {
   "cell_type": "code",
   "execution_count": 2,
   "id": "9ee6c235",
   "metadata": {},
   "outputs": [],
   "source": [
    "reddit = praw.Reddit(client_id='redacted',\n",
    "                    client_secret= 'redacted',\n",
    "                    user_agent='redacted',\n",
    "                    username='redacted',\n",
    "                    password='redacted',)"
   ]
  },
  {
   "cell_type": "code",
   "execution_count": 3,
   "id": "5b9b57eb",
   "metadata": {},
   "outputs": [],
   "source": [
    "end_of_season_2223 = 1685418710\n",
    "beginning_of_season2223 = 1659744000\n"
   ]
  },
  {
   "cell_type": "code",
   "execution_count": 4,
   "id": "09c9eff4",
   "metadata": {},
   "outputs": [],
   "source": [
    "submission_list_liverpool = [\n",
    "    submission for submission in reddit.subreddit('LiverpoolFC').search('FT') if end_of_season_2223 >= submission.created_utc >= beginning_of_season2223 and submission.link_flair_text == 'Post Match'\n",
    "]\n",
    "submission_list_arsenal = [\n",
    "    submission for submission in reddit.subreddit('Gunners').search('Post Match') if end_of_season_2223 >= submission.created_utc >= beginning_of_season2223 and submission.link_flair_text == 'Post-Match Thread'\n",
    "\n",
    "]\n",
    "\n",
    "submission_list_manunited = [\n",
    "    submission for submission in reddit.subreddit('RedDevils').search('Post Match') if end_of_season_2223 >= submission.created_utc >= beginning_of_season2223\n",
    "\n",
    "]\n",
    "\n",
    "submission_list_mancity = [\n",
    "    submission for submission in reddit.subreddit('MCFC').search('Post') if end_of_season_2223 >= submission.created_utc >= beginning_of_season2223 and submission.link_flair_text == 'Match Day'\n",
    "\n",
    "]\n",
    "\n",
    "submission_list_spurs = [\n",
    "    submission for submission in reddit.subreddit('coys').search('post') if end_of_season_2223 >= submission.created_utc >= beginning_of_season2223 and submission.link_flair_text == 'PostMatch Thread'\n",
    "\n",
    "]\n",
    "\n",
    "submission_list_chelsea = [\n",
    "    submission for submission in reddit.subreddit('chelseafc').search('post') if end_of_season_2223 >= submission.created_utc >= beginning_of_season2223 and submission.link_flair_text == 'Post-Match Thread'\n",
    "\n",
    "]"
   ]
  },
  {
   "cell_type": "code",
   "execution_count": null,
   "id": "47a19186",
   "metadata": {},
   "outputs": [],
   "source": []
  },
  {
   "cell_type": "code",
   "execution_count": 5,
   "id": "a3212b16",
   "metadata": {
    "scrolled": true
   },
   "outputs": [],
   "source": [
    "import pandas as pd\n",
    "\n",
    "def get_comment_data(end, beginning, submission_list):\n",
    "    data = pd.DataFrame()\n",
    "\n",
    "    for i in submission_list:\n",
    "        submission = reddit.submission(i)\n",
    "        finaltitle = i.title\n",
    "\n",
    "        comment_data = []\n",
    "\n",
    "        submission.comments.replace_more(limit=None)\n",
    "\n",
    "        for comment in submission.comments.list():\n",
    "            comment_data.append(str(comment.body))\n",
    "\n",
    "\n",
    "        df = pd.DataFrame({finaltitle: comment_data})\n",
    "        data = pd.concat([data, df], axis=1)\n",
    "    return data\n"
   ]
  },
  {
   "cell_type": "code",
   "execution_count": null,
   "id": "89d43740",
   "metadata": {},
   "outputs": [],
   "source": []
  },
  {
   "cell_type": "code",
   "execution_count": 6,
   "id": "f0031022",
   "metadata": {},
   "outputs": [
    {
     "name": "stderr",
     "output_type": "stream",
     "text": [
      "No model was supplied, defaulted to distilbert-base-uncased-finetuned-sst-2-english and revision af0f99b (https://huggingface.co/distilbert-base-uncased-finetuned-sst-2-english).\n",
      "Using a pipeline without specifying a model name and revision in production is not recommended.\n"
     ]
    }
   ],
   "source": [
    "from transformers import pipeline\n",
    "sentiment_pipeline = pipeline(\"sentiment-analysis\")"
   ]
  },
  {
   "cell_type": "code",
   "execution_count": null,
   "id": "94435da4",
   "metadata": {},
   "outputs": [],
   "source": []
  },
  {
   "cell_type": "code",
   "execution_count": 7,
   "id": "9a7307db",
   "metadata": {},
   "outputs": [],
   "source": [
    "def get_mood_ratio(data):\n",
    "\n",
    "    moodDF = pd.DataFrame()\n",
    "    #for each column in the data\n",
    "    for col in data.columns.dropna():\n",
    "        col_list = []\n",
    "        #for each comment in each column\n",
    "        for comment in data[col].dropna():\n",
    "            #split text into words'\n",
    "            temp = comment.split(' ')\n",
    "            #find length\n",
    "            length = len(temp)\n",
    "            #need to restrict length of paragraph so that the sentiment pipeline can work\n",
    "            try:\n",
    "                if length > 100:\n",
    "                    new_comment = ' '.join(temp[:100])\n",
    "                    sent = sentiment_pipeline(new_comment)\n",
    "                    col_list.append(sent[0])\n",
    "\n",
    "                else:\n",
    "                    sent = sentiment_pipeline(comment)\n",
    "                    col_list.append(sent[0])\n",
    "            except RuntimeError:\n",
    "                continue\n",
    "        \n",
    "        #\n",
    "        moodDF.loc[:, col] = pd.Series(col_list)\n",
    "        \n",
    "        \n",
    "    #cleaning moodDF, getting games out if there arent many comments\n",
    "    new_moodDF = moodDF.copy()\n",
    "    for column in new_moodDF.columns: \n",
    "        if new_moodDF[column].count() <= 7: \n",
    "            new_moodDF=new_moodDF.drop(column, axis=1) \n",
    "    \n",
    "    #now making percentage\n",
    "    percentage = pd.DataFrame()\n",
    "\n",
    "    for col in new_moodDF.columns:\n",
    "        num = 0\n",
    "        num_negative = 0\n",
    "        for item in new_moodDF[col].dropna():\n",
    "            if item['label'] == 'NEGATIVE':\n",
    "                num_negative += 1\n",
    "            num += 1\n",
    "        percentage[col] = [(num_negative/num)]\n",
    "    \n",
    "    return percentage\n"
   ]
  },
  {
   "cell_type": "code",
   "execution_count": 70,
   "id": "73711415",
   "metadata": {},
   "outputs": [],
   "source": [
    "labels = ['Negativity Score', 'Result']"
   ]
  },
  {
   "cell_type": "code",
   "execution_count": 167,
   "id": "43880118",
   "metadata": {},
   "outputs": [],
   "source": [
    "# liverpool_data2223 = get_comment_data(end_of_season_2223, beginning_of_season2223, submission_list_liverpool)\n",
    "# liverpool_data2223.to_csv(r'C:\\Users\\mjjyo\\OneDrive\\Desktop\\soccermooddata\\liverpool.csv')\n",
    "#Above was done earlier and let run, but now I am accessing through the download\n",
    "\n",
    "\n",
    "# liverpool_data2223 = pd.read_csv(r'C:\\Users\\mjjyo\\OneDrive\\Desktop\\soccermooddata\\liverpool.csv')\n",
    "# liverpool_data2223 = liverpool_data2223.drop('Unnamed: 0', axis=1)\n",
    "# liverpool_mood = get_mood_ratio(liverpool_data2223)\n",
    "#Above was done earlier and let run, but now I am accessing through the download\n",
    "\n",
    "\n",
    "liverpool_mood = pd.read_csv(r'C:\\Users\\mjjyo\\OneDrive\\Desktop\\soccermooddata\\liverpoolmood.csv')\n",
    "liverpool_mood = liverpool_mood.drop('Unnamed: 0', axis=1)\n",
    "liverpool_mood = liverpool_mood.transpose()\n",
    "liverpool_mood.columns = labels\n"
   ]
  },
  {
   "cell_type": "code",
   "execution_count": null,
   "id": "3c746d74",
   "metadata": {},
   "outputs": [],
   "source": []
  },
  {
   "cell_type": "code",
   "execution_count": 168,
   "id": "db4bcc26",
   "metadata": {},
   "outputs": [],
   "source": [
    "# arsenal_data2223 = get_comment_data(end_of_season_2223, beginning_of_season2223, submission_list_arsenal)\n",
    "# arsenal_data2223.to_csv(r'C:\\Users\\mjjyo\\OneDrive\\Desktop\\soccermooddata\\arsenal.csv')\n",
    "#Above was done earlier and let run, but now I am accessing through the download\n",
    "\n",
    "# arsenal_data2223 = pd.read_csv(r'C:\\Users\\mjjyo\\OneDrive\\Desktop\\soccermooddata\\arsenal.csv')\n",
    "# arsenal_data2223 = arsenal_data2223.drop('Unnamed: 0', axis=1)\n",
    "# arsenal_mood = get_mood_ratio(arsenal_data2223)\n",
    "#Above was done earlier and let run, but now I am accessing through the download\n",
    "\n",
    "arsenal_mood = pd.read_csv(r'C:\\Users\\mjjyo\\OneDrive\\Desktop\\soccermooddata\\arsenalmood.csv')\n",
    "arsenal_mood = arsenal_mood.drop('Unnamed: 0', axis=1)\n",
    "arsenal_mood = arsenal_mood.transpose()\n",
    "arsenal_mood.columns = labels\n"
   ]
  },
  {
   "cell_type": "code",
   "execution_count": null,
   "id": "97b0853e",
   "metadata": {},
   "outputs": [],
   "source": []
  },
  {
   "cell_type": "code",
   "execution_count": 169,
   "id": "bb7b95f7",
   "metadata": {},
   "outputs": [],
   "source": [
    "# manunited_data2223 = get_comment_data(end_of_season_2223, beginning_of_season2223, submission_list_manunited)\n",
    "# manunited_data2223.to_csv(r'C:\\Users\\mjjyo\\OneDrive\\Desktop\\soccermooddata\\manunited.csv')\n",
    "#Above was done earlier and let run, but now I am accessing through the download\n",
    "\n",
    "# manunited_data2223 = pd.read_csv(r'C:\\Users\\mjjyo\\OneDrive\\Desktop\\soccermooddata\\manunited.csv')\n",
    "# manunited_data2223 = manunited_data2223.drop('Unnamed: 0', axis=1)\n",
    "# manunited_mood = get_mood_ratio(manunited_data2223)\n",
    "#Above was done earlier and let run, but now I am accessing through the download\n",
    "\n",
    "manunited_mood = pd.read_csv(r'C:\\Users\\mjjyo\\OneDrive\\Desktop\\soccermooddata\\manunitedmood.csv')\n",
    "manunited_mood = manunited_mood.drop('Unnamed: 0', axis=1)\n",
    "manunited_mood = manunited_mood.transpose()\n",
    "manunited_mood.columns = labels\n"
   ]
  },
  {
   "cell_type": "code",
   "execution_count": null,
   "id": "ff8d4b42",
   "metadata": {},
   "outputs": [],
   "source": []
  },
  {
   "cell_type": "code",
   "execution_count": 170,
   "id": "37f8de5b",
   "metadata": {},
   "outputs": [],
   "source": [
    "# mancity_data2223 = get_comment_data(end_of_season_2223, beginning_of_season2223, submission_list_mancity)\n",
    "# mancity_data2223.to_csv(r'C:\\Users\\mjjyo\\OneDrive\\Desktop\\soccermooddata\\mancity.csv')\n",
    "#Above was done earlier and let run, but now I am accessing through the download\n",
    "\n",
    "# mancity_data2223 = pd.read_csv(r'C:\\Users\\mjjyo\\OneDrive\\Desktop\\soccermooddata\\mancity.csv')\n",
    "# mancity_data2223 = mancity_data2223.drop('Unnamed: 0', axis=1)\n",
    "# mancity_mood = get_mood_ratio(mancity_data2223)\n",
    "#Above was done earlier and let run, but now I am accessing through the download\n",
    "\n",
    "mancity_mood = pd.read_csv(r'C:\\Users\\mjjyo\\OneDrive\\Desktop\\soccermooddata\\mancitymood.csv')\n",
    "mancity_mood = mancity_mood.drop('Unnamed: 0', axis=1)\n",
    "mancity_mood = mancity_mood.transpose()\n",
    "mancity_mood.columns = labels\n"
   ]
  },
  {
   "cell_type": "code",
   "execution_count": null,
   "id": "e2ef6b88",
   "metadata": {},
   "outputs": [],
   "source": []
  },
  {
   "cell_type": "code",
   "execution_count": 171,
   "id": "4ef962d7",
   "metadata": {},
   "outputs": [],
   "source": [
    "# spurs_data2223 = get_comment_data(end_of_season_2223, beginning_of_season2223, submission_list_spurs)\n",
    "# spurs_data2223.to_csv(r'C:\\Users\\mjjyo\\OneDrive\\Desktop\\soccermooddata\\spurs.csv')\n",
    "#Above was done earlier and let run, but now I am accessing through the download\n",
    "\n",
    "# spurs_data2223 = pd.read_csv(r'C:\\Users\\mjjyo\\OneDrive\\Desktop\\soccermooddata\\spurs.csv')\n",
    "# spurs_data2223 = spurs_data2223.drop('Unnamed: 0', axis=1)\n",
    "# spurs_mood = get_mood_ratio(spurs_data2223)\n",
    "\n",
    "spurs_mood = pd.read_csv(r'C:\\Users\\mjjyo\\OneDrive\\Desktop\\soccermooddata\\spursmood.csv')\n",
    "spurs_mood = spurs_mood.drop('Unnamed: 0', axis=1)\n",
    "spurs_mood = spurs_mood.transpose()\n",
    "spurs_mood.columns = labels\n"
   ]
  },
  {
   "cell_type": "code",
   "execution_count": null,
   "id": "19d9bab9",
   "metadata": {},
   "outputs": [],
   "source": []
  },
  {
   "cell_type": "code",
   "execution_count": 172,
   "id": "55459b62",
   "metadata": {},
   "outputs": [],
   "source": [
    "# chelsea_data2223 = get_comment_data(end_of_season_2223, beginning_of_season2223, submission_list_chelsea)\n",
    "# chelsea_data2223.to_csv(r'C:\\Users\\mjjyo\\OneDrive\\Desktop\\soccermooddata\\chelsea.csv')\n",
    "#Above was done earlier and let run, but now I am accessing through the download\n",
    "\n",
    "# chelsea_data2223 = pd.read_csv(r'C:\\Users\\mjjyo\\OneDrive\\Desktop\\soccermooddata\\chelsea.csv')\n",
    "# chelsea_data2223 = chelsea_data2223.drop('Unnamed: 0', axis=1)\n",
    "# chelsea_mood = get_mood_ratio(chelsea_data2223)\n",
    "#Above was done earlier and let run, but now I am accessing through the download\n",
    "\n",
    "chelsea_mood = pd.read_csv(r'C:\\Users\\mjjyo\\OneDrive\\Desktop\\soccermooddata\\chelseamood.csv')\n",
    "chelsea_mood = chelsea_mood.drop('Unnamed: 0', axis=1)\n",
    "chelsea_mood = chelsea_mood.transpose()\n",
    "chelsea_mood.columns = labels\n"
   ]
  },
  {
   "cell_type": "code",
   "execution_count": 128,
   "id": "d888629b",
   "metadata": {
    "scrolled": true
   },
   "outputs": [],
   "source": [
    "def means_per_score(data):\n",
    "    means = {}\n",
    "    results = data['Result']\n",
    "    for i in range(len(results)):\n",
    "        result = results[i]\n",
    "        if result not in means:\n",
    "            means[result] = [data['Negativity Score'][i]]\n",
    "        else:\n",
    "            means[result].append(data['Negativity Score'][i])\n",
    "    return means"
   ]
  },
  {
   "cell_type": "code",
   "execution_count": 149,
   "id": "ec414586",
   "metadata": {},
   "outputs": [],
   "source": [
    "from statistics import mean\n"
   ]
  },
  {
   "cell_type": "code",
   "execution_count": 130,
   "id": "626e0e8c",
   "metadata": {},
   "outputs": [],
   "source": [
    "import matplotlib.pyplot as plt\n",
    "import numpy as np"
   ]
  },
  {
   "cell_type": "code",
   "execution_count": 166,
   "id": "2e5d6df0",
   "metadata": {
    "scrolled": false
   },
   "outputs": [
    {
     "data": {
      "image/png": "[encoded data removed]",
      "text/plain": [
       "<Figure size 640x480 with 1 Axes>"
      ]
     },
     "metadata": {},
     "output_type": "display_data"
    }
   ],
   "source": [
    "teams = ('Liverpool', 'Arsenal', 'Man United',\n",
    "        'Man City', 'Spurs', 'Chelsea')\n",
    "\n",
    "def return_mean(data, score):\n",
    "    try:\n",
    "        return round(mean(means_per_score(data)[score]),2)\n",
    "    except KeyError:\n",
    "        return 0\n",
    "\n",
    "\n",
    "team_means = {\n",
    "    'Loss by 2': (return_mean(liverpool_mood, -2.0),\n",
    "                  return_mean(arsenal_mood, -2.0),\n",
    "                  return_mean(manunited_mood, -2.0),\n",
    "                  return_mean(mancity_mood, -2.0),\n",
    "                  return_mean(spurs_mood, -2.0),\n",
    "                  return_mean(chelsea_mood, -2.0),\n",
    "                 ),  \n",
    "    \n",
    "    'Loss by 1': (return_mean(liverpool_mood, -1.0),\n",
    "                  return_mean(arsenal_mood, -1.0),\n",
    "                  return_mean(manunited_mood, -1.0),\n",
    "                  return_mean(mancity_mood, -1.0),\n",
    "                  return_mean(spurs_mood, -1.0),\n",
    "                  return_mean(chelsea_mood, -1.0),\n",
    "                 ),  \n",
    "    'Loss by 3': (return_mean(liverpool_mood, -3.0),\n",
    "                  return_mean(arsenal_mood, -3.0),\n",
    "                  return_mean(manunited_mood, -3.0),\n",
    "                  return_mean(mancity_mood, -3.0),\n",
    "                  return_mean(spurs_mood, -3.0),\n",
    "                  return_mean(chelsea_mood, -3.0),\n",
    "                 ),  \n",
    " \n",
    "    'Tie': (return_mean(liverpool_mood, 0),\n",
    "                  return_mean(arsenal_mood, 0),\n",
    "                  return_mean(manunited_mood, 0),\n",
    "                  return_mean(mancity_mood, 0),\n",
    "                  return_mean(spurs_mood, 0),\n",
    "                  return_mean(chelsea_mood, -0),\n",
    "                 ), \n",
    "    'Win by 1': (return_mean(liverpool_mood, 1.0),\n",
    "                  return_mean(arsenal_mood, 1.0),\n",
    "                  return_mean(manunited_mood, 1.0),\n",
    "                  return_mean(mancity_mood, 1.0),\n",
    "                  return_mean(spurs_mood, 1.0),\n",
    "                  return_mean(chelsea_mood, 1.0),\n",
    "                 ),  \n",
    "    'Win by 2': (return_mean(liverpool_mood, 2.0),\n",
    "                  return_mean(arsenal_mood, 2.0),\n",
    "                  return_mean(manunited_mood, 2.0),\n",
    "                  return_mean(mancity_mood, 2.0),\n",
    "                  return_mean(spurs_mood, 2.0),\n",
    "                  return_mean(chelsea_mood, 2.0),\n",
    "                 ),  \n",
    "    'Win by 3': (return_mean(liverpool_mood, 3.0),\n",
    "                  return_mean(arsenal_mood, 3.0),\n",
    "                  return_mean(manunited_mood, 3.0),\n",
    "                  return_mean(mancity_mood, 3.0),\n",
    "                  return_mean(spurs_mood, 3.0),\n",
    "                  return_mean(chelsea_mood, 3.0),\n",
    "                 ),  \n",
    "    \n",
    "}\n",
    "\n",
    "x = np.arange(len(teams))  # the label locations\n",
    "width = 0.1  # the width of the bars\n",
    "multiplier = 0\n",
    "\n",
    "fig, ax = plt.subplots(layout='constrained')\n",
    "\n",
    "for attribute, measurement in team_means.items():\n",
    "    offset = width * multiplier\n",
    "    rects = ax.bar(x + offset, measurement, width, label=attribute)\n",
    "    ax.bar_label(rects, padding=3)\n",
    "    multiplier += 1\n",
    "\n",
    "# Add some text for labels, title and custom x-axis tick labels, etc.\n",
    "ax.set_ylabel('Negativity (1.0 High Negativity), 0 is Low')\n",
    "ax.set_title('Premier League Reddit Negativity After Games')\n",
    "ax.set_xticks(x + width, species)\n",
    "ax.legend(bbox_to_anchor=(1.1, 1.05))\n",
    "ax.set_ylim(0, 1)\n",
    "\n",
    "plt.show()\n"
   ]
  }
 ],
 "metadata": {
  "kernelspec": {
   "display_name": "Python 3 (ipykernel)",
   "language": "python",
   "name": "python3"
  },
  "language_info": {
   "codemirror_mode": {
    "name": "ipython",
    "version": 3
   },
   "file_extension": ".py",
   "mimetype": "text/x-python",
   "name": "python",
   "nbconvert_exporter": "python",
   "pygments_lexer": "ipython3",
   "version": "3.9.13"
  }
 },
 "nbformat": 4,
 "nbformat_minor": 5
}
